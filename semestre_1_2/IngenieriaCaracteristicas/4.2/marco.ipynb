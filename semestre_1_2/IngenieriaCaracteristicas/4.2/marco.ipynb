{
 "cells": [
  {
   "cell_type": "markdown",
   "metadata": {
    "id": "GH5xsY1z5PPO"
   },
   "source": [
    "### Variables categoricas ordinales"
   ]
  },
  {
   "cell_type": "markdown",
   "metadata": {
    "id": "riryAbYv_F79"
   },
   "source": [
    "1. Importe los datos del archivo `data.csv`"
   ]
  },
  {
   "cell_type": "code",
   "execution_count": 12,
   "metadata": {
    "id": "wxNb8itH5PPp"
   },
   "outputs": [
    {
     "data": {
      "text/plain": [
       "array(['Primaria trunca', 'Secundaria', 'Preparatoria', 'Sin escolaridad',\n",
       "       'Primaria'], dtype=object)"
      ]
     },
     "execution_count": 12,
     "metadata": {},
     "output_type": "execute_result"
    }
   ],
   "source": [
    "import pandas as pd\n",
    "import numpy as np\n",
    "from sklearn.linear_model import LinearRegression\n",
    "import matplotlib.pyplot as plt\n",
    "\n",
    "df = pd.read_csv('data.csv')\n",
    "df['Escolaridad'].unique()"
   ]
  },
  {
   "cell_type": "code",
   "execution_count": null,
   "metadata": {},
   "outputs": [],
   "source": []
  },
  {
   "cell_type": "markdown",
   "metadata": {
    "id": "hvSpkVgh5PPq"
   },
   "source": [
    "2. Sustituya ahora la variable categórica por valores resultantes de un polinomio cuadrático estrictamente decreciente."
   ]
  },
  {
   "cell_type": "code",
   "execution_count": 13,
   "metadata": {
    "id": "OX7L_GzY_1eH"
   },
   "outputs": [],
   "source": [
    "df['Escolaridad_num'] = df['Escolaridad'].replace({'Sin escolaridad': 0, 'Primaria trunca': 1, 'Primaria': 2,\n",
    "                                                    'Secundaria': 3, 'Preparatoria': 4})\n",
    "\n",
    "# definir coeficientes del polinomio cuadrático\n",
    "a, b, c = 1, -1, -1\n",
    "\n",
    "# aplicar transformación polinómica\n",
    "df['Escolaridad_poly'] = np.polyval([a, b, c], df['Escolaridad_num'])\n",
    "\n",
    "# eliminar columna 'Escolaridad_num'\n",
    "df = df.drop('Escolaridad_num', axis=1)"
   ]
  },
  {
   "cell_type": "code",
   "execution_count": 14,
   "metadata": {},
   "outputs": [
    {
     "data": {
      "text/html": [
       "<div>\n",
       "<style scoped>\n",
       "    .dataframe tbody tr th:only-of-type {\n",
       "        vertical-align: middle;\n",
       "    }\n",
       "\n",
       "    .dataframe tbody tr th {\n",
       "        vertical-align: top;\n",
       "    }\n",
       "\n",
       "    .dataframe thead th {\n",
       "        text-align: right;\n",
       "    }\n",
       "</style>\n",
       "<table border=\"1\" class=\"dataframe\">\n",
       "  <thead>\n",
       "    <tr style=\"text-align: right;\">\n",
       "      <th></th>\n",
       "      <th>Escolaridad</th>\n",
       "      <th>No. de hijos</th>\n",
       "      <th>Escolaridad_poly</th>\n",
       "    </tr>\n",
       "  </thead>\n",
       "  <tbody>\n",
       "    <tr>\n",
       "      <th>0</th>\n",
       "      <td>Primaria trunca</td>\n",
       "      <td>9</td>\n",
       "      <td>-1</td>\n",
       "    </tr>\n",
       "    <tr>\n",
       "      <th>1</th>\n",
       "      <td>Secundaria</td>\n",
       "      <td>3</td>\n",
       "      <td>5</td>\n",
       "    </tr>\n",
       "    <tr>\n",
       "      <th>2</th>\n",
       "      <td>Preparatoria</td>\n",
       "      <td>2</td>\n",
       "      <td>11</td>\n",
       "    </tr>\n",
       "    <tr>\n",
       "      <th>3</th>\n",
       "      <td>Sin escolaridad</td>\n",
       "      <td>3</td>\n",
       "      <td>-1</td>\n",
       "    </tr>\n",
       "    <tr>\n",
       "      <th>4</th>\n",
       "      <td>Primaria</td>\n",
       "      <td>2</td>\n",
       "      <td>1</td>\n",
       "    </tr>\n",
       "    <tr>\n",
       "      <th>5</th>\n",
       "      <td>Preparatoria</td>\n",
       "      <td>3</td>\n",
       "      <td>11</td>\n",
       "    </tr>\n",
       "    <tr>\n",
       "      <th>6</th>\n",
       "      <td>Secundaria</td>\n",
       "      <td>0</td>\n",
       "      <td>5</td>\n",
       "    </tr>\n",
       "    <tr>\n",
       "      <th>7</th>\n",
       "      <td>Primaria</td>\n",
       "      <td>2</td>\n",
       "      <td>1</td>\n",
       "    </tr>\n",
       "    <tr>\n",
       "      <th>8</th>\n",
       "      <td>Sin escolaridad</td>\n",
       "      <td>8</td>\n",
       "      <td>-1</td>\n",
       "    </tr>\n",
       "    <tr>\n",
       "      <th>9</th>\n",
       "      <td>Preparatoria</td>\n",
       "      <td>3</td>\n",
       "      <td>11</td>\n",
       "    </tr>\n",
       "  </tbody>\n",
       "</table>\n",
       "</div>"
      ],
      "text/plain": [
       "       Escolaridad  No. de hijos  Escolaridad_poly\n",
       "0  Primaria trunca             9                -1\n",
       "1       Secundaria             3                 5\n",
       "2     Preparatoria             2                11\n",
       "3  Sin escolaridad             3                -1\n",
       "4         Primaria             2                 1\n",
       "5     Preparatoria             3                11\n",
       "6       Secundaria             0                 5\n",
       "7         Primaria             2                 1\n",
       "8  Sin escolaridad             8                -1\n",
       "9     Preparatoria             3                11"
      ]
     },
     "execution_count": 14,
     "metadata": {},
     "output_type": "execute_result"
    }
   ],
   "source": [
    "df.head(10)"
   ]
  },
  {
   "cell_type": "markdown",
   "metadata": {
    "id": "PjjnPG3B5PPy"
   },
   "source": [
    "3. Obtenga una relación lineal usando la clase *LinearRegression* del paquete *sklearn.linear_model*, para la codificacón obtenida y la variable `No. de hijos` y grafique."
   ]
  },
  {
   "cell_type": "code",
   "execution_count": 16,
   "metadata": {
    "id": "NdF1fUBA-k4S"
   },
   "outputs": [],
   "source": [
    "# crear modelo de regresión lineal\n",
    "reg = LinearRegression().fit(df[['Escolaridad_poly']], df['No. de hijos'])"
   ]
  },
  {
   "cell_type": "code",
   "execution_count": null,
   "metadata": {},
   "outputs": [],
   "source": [
    "# obtener coeficientes de la recta de regresión\n",
    "m = reg.coef_[0]\n",
    "b = reg.intercept_"
   ]
  },
  {
   "cell_type": "code",
   "execution_count": null,
   "metadata": {},
   "outputs": [],
   "source": [
    "# graficar puntos y recta de regresión\n",
    "plt.scatter(df['Escolaridad_poly'], df['No. de hijos'])\n",
    "plt.plot(df['Escolaridad_poly'], m * df['Escolaridad_poly'] + b, color='red')\n",
    "plt.xlabel('Escolaridad_poly')\n",
    "plt.ylabel('No. de hijos')\n",
    "plt.show()"
   ]
  }
 ],
 "metadata": {
  "colab": {
   "provenance": []
  },
  "kernelspec": {
   "display_name": "Python 3 (ipykernel)",
   "language": "python",
   "name": "python3"
  },
  "language_info": {
   "codemirror_mode": {
    "name": "ipython",
    "version": 3
   },
   "file_extension": ".py",
   "mimetype": "text/x-python",
   "name": "python",
   "nbconvert_exporter": "python",
   "pygments_lexer": "ipython3",
   "version": "3.10.9"
  }
 },
 "nbformat": 4,
 "nbformat_minor": 1
}
