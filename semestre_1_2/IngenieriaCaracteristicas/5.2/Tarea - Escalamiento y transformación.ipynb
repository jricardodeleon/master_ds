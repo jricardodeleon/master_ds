{
 "cells": [
  {
   "cell_type": "markdown",
   "id": "99f1f5b5",
   "metadata": {},
   "source": [
    "# Tarea - escalamiento y transformación\n",
    "En el archivo `Escalamiento.xlsx` se encuentran dos variables, las cuales se pretenden analizar para una posterior predicción.\n",
    "\n",
    "Se entrenará una red neuronal con la variable $x_1$ usando una función de activación sigmoidal unipolar, y la variable $x_2$ se usará para entrenar una red neuronal con una función de activación de tangente hiperbólica.\n",
    "\n",
    "Use el escalamiento adecuado para cada variable con la finalidad de que la red neuronal opere en el rango de cada función de activación.\n",
    "\n",
    "Transforme cada variable usando una función del tipo $\\sqrt[a]{x}$, donde $a\\in\\mathbb{R}$, con el fin de obtener un sesgo cercano a cero y evalue si existen datos atípicos con el criterio de $1.5$ veces el rango intercuartílico por encima y por debajo de $Q_3$ y $Q_1$ para cada variable."
   ]
  },
  {
   "cell_type": "code",
   "execution_count": null,
   "id": "45555bba",
   "metadata": {},
   "outputs": [],
   "source": []
  }
 ],
 "metadata": {
  "kernelspec": {
   "display_name": "Python 3",
   "language": "python",
   "name": "python3"
  },
  "language_info": {
   "codemirror_mode": {
    "name": "ipython",
    "version": 3
   },
   "file_extension": ".py",
   "mimetype": "text/x-python",
   "name": "python",
   "nbconvert_exporter": "python",
   "pygments_lexer": "ipython3",
   "version": "3.8.8"
  }
 },
 "nbformat": 4,
 "nbformat_minor": 5
}
